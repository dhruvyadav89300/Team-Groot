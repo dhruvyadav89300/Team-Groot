{
 "cells": [
  {
   "cell_type": "code",
   "execution_count": 1,
   "id": "c4cdc0b3-21d8-4163-8644-ec77588c7e41",
   "metadata": {},
   "outputs": [],
   "source": [
    "import langchain"
   ]
  },
  {
   "cell_type": "code",
   "execution_count": 2,
   "id": "f7dd00bb-decc-4a0f-9656-7695769a56d3",
   "metadata": {},
   "outputs": [],
   "source": [
    "from langchain_openai import OpenAI"
   ]
  },
  {
   "cell_type": "code",
   "execution_count": 3,
   "id": "5a987c1c-38cc-4226-92c9-f12efda8b701",
   "metadata": {},
   "outputs": [],
   "source": [
    "import os\n",
    "api_key = os.getenv('OPENAI_API_KEY')"
   ]
  },
  {
   "cell_type": "code",
   "execution_count": 4,
   "id": "c4b0dd53-cd9d-4b96-b17f-cd472843df0b",
   "metadata": {},
   "outputs": [],
   "source": [
    "llm = OpenAI(api_key=api_key)"
   ]
  },
  {
   "cell_type": "code",
   "execution_count": 5,
   "id": "6f334d25-a6f0-4e10-b312-52f50a26b5b5",
   "metadata": {},
   "outputs": [],
   "source": [
    "def create_prompt(topic, grade_level):\n",
    "    prompt_templates = {\n",
    "        5: f\"Explain {topic} as if to a 5th-grade student:\",\n",
    "        6: f\"Explain {topic} as if to a 6th-grade student:\",\n",
    "        7: f\"Explain {topic} as if to a 7th-grade student:\",\n",
    "        8: f\"Explain {topic} as if to a 8th-grade student:\",\n",
    "        9: f\"Explain {topic} as if to a 9th-grade student:\",\n",
    "        10: f\"Explain {topic} as if to a 10th-grade student:\",\n",
    "    }\n",
    "    return prompt_templates.get(grade_level, \"Grade level not supported.\")"
   ]
  },
  {
   "cell_type": "code",
   "execution_count": 6,
   "id": "bbd36f16-482e-4c03-a7d2-ff001943ad6a",
   "metadata": {},
   "outputs": [],
   "source": [
    "structure = {\n",
    "        'Introduction': \"Start with an introduction to {topic}, making it engaging and relatable to a student's everyday life or things they already know. , make sure to consider that the student is from {grade_level} grade\",\n",
    "        'Explanation': \"Follow with a clear, proper and detailed explanation of {topic} in phases (2 paragraphs) using language and complexity suitable for a {grade_level}-grade student.\",\n",
    "        'Bulleted List': \"Break down the key points or steps in understanding {topic} into 3-4 bullet or numbered points for easy understanding. the key points should be short and easy to understand\",\n",
    "        'Example': \"Provide an example that applies {topic} in a real-world context understandable to a {grade_level}-grade student.\",\n",
    "        'Summary': \"Conclude with a summary to recap the key takeaways of {topic} and solidify the learning.\",\n",
    "        'Quiz Question': \"End with a quiz question about {topic} to test the student's comprehension of the material just explained.\"\n",
    "    }"
   ]
  },
  {
   "cell_type": "code",
   "execution_count": 7,
   "id": "f96a87be-1cec-4b03-892d-cd975ba4430d",
   "metadata": {},
   "outputs": [],
   "source": [
    "def create_structured_prompt(topic, grade_level):\n",
    "    base_prompt = create_prompt(topic, grade_level)\n",
    "    global structure\n",
    "    structured_prompt = base_prompt + \"\\n\" + \"\\n\\n\".join(structure.values())\n",
    "    return structured_prompt.format(topic=topic, grade_level=grade_level)\n"
   ]
  },
  {
   "cell_type": "code",
   "execution_count": 8,
   "id": "fe7dff32-e0fb-42e3-94da-156af6bc7e06",
   "metadata": {},
   "outputs": [
    {
     "name": "stderr",
     "output_type": "stream",
     "text": [
      "/Users/mayankbhardwaj/Documents/Anaconda/miniconda3/envs/jypython/lib/python3.11/site-packages/langchain_core/_api/deprecation.py:117: LangChainDeprecationWarning: The function `__call__` was deprecated in LangChain 0.1.7 and will be removed in 0.2.0. Use invoke instead.\n",
      "  warn_deprecated(\n"
     ]
    }
   ],
   "source": [
    "topic = \"acceleration\"\n",
    "grade_level = 5\n",
    "\n",
    "structured_prompt = create_structured_prompt(topic, grade_level)\n",
    "response = llm(structured_prompt, max_tokens=700) "
   ]
  },
  {
   "cell_type": "code",
   "execution_count": 16,
   "id": "7411f8eb-9684-4021-9a31-38c51b0323de",
   "metadata": {},
   "outputs": [],
   "source": [
    "#print(response)"
   ]
  },
  {
   "cell_type": "code",
   "execution_count": 13,
   "id": "a5e9d659-e3ef-4f24-af37-ab1ac9c9a4e0",
   "metadata": {},
   "outputs": [],
   "source": [
    "def extract_sections_from_response(response):\n",
    "    section_titles = ['introduction','explanation','key points','example', 'summary', 'quiz question']\n",
    "    sections_content = {title: [] for title in section_titles}\n",
    "    \n",
    "    current_section = None\n",
    "    \n",
    "\n",
    "    for line in response.splitlines():\n",
    "        \n",
    "        line_lower = line.lower().strip()\n",
    "        \n",
    "        for title in section_titles:\n",
    "            if line_lower.startswith(f\"{title}:\"):\n",
    "                current_section = title\n",
    "                break\n",
    "        \n",
    "     \n",
    "        if current_section and not line_lower.startswith(f\"{title}:\"):\n",
    "            sections_content[current_section].append(line.strip())\n",
    "\n",
    "    \n",
    "    for title, lines in sections_content.items():\n",
    "        sections_content[title] = ' '.join(lines)\n",
    "    \n",
    "    sections_list = list(sections_content.values())\n",
    "    return sections_list"
   ]
  },
  {
   "cell_type": "code",
   "execution_count": 14,
   "id": "ba7b5673-3d2c-44e5-92f5-a2f0623589b2",
   "metadata": {},
   "outputs": [],
   "source": [
    "sections_list = extract_sections_from_response(response)"
   ]
  },
  {
   "cell_type": "code",
   "execution_count": 15,
   "id": "56a0ae6f-50df-445c-94ab-7ea6fd458acb",
   "metadata": {},
   "outputs": [
    {
     "name": "stdout",
     "output_type": "stream",
     "text": [
      "Acceleration is when something changes its speed or direction. It can be a speed up, slow down, or change in direction and is caused by a force acting on an object. We measure it in meters per second squared. A race car is a great example of acceleration, as it starts from being still and speeds up until it reaches its top speed. \n"
     ]
    }
   ],
   "source": [
    "print(sections_list[4])"
   ]
  },
  {
   "cell_type": "code",
   "execution_count": null,
   "id": "9dd07959-7027-47d1-8343-1e1a135364a6",
   "metadata": {},
   "outputs": [],
   "source": []
  }
 ],
 "metadata": {
  "kernelspec": {
   "display_name": "Python 3 (ipykernel)",
   "language": "python",
   "name": "python3"
  },
  "language_info": {
   "codemirror_mode": {
    "name": "ipython",
    "version": 3
   },
   "file_extension": ".py",
   "mimetype": "text/x-python",
   "name": "python",
   "nbconvert_exporter": "python",
   "pygments_lexer": "ipython3",
   "version": "3.11.4"
  }
 },
 "nbformat": 4,
 "nbformat_minor": 5
}
